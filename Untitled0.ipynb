{
  "nbformat": 4,
  "nbformat_minor": 0,
  "metadata": {
    "colab": {
      "provenance": [],
      "toc_visible": true,
      "authorship_tag": "ABX9TyP7JGiOIxMWlu/du8fA5JwR",
      "include_colab_link": true
    },
    "kernelspec": {
      "name": "python3",
      "display_name": "Python 3"
    },
    "language_info": {
      "name": "python"
    }
  },
  "cells": [
    {
      "cell_type": "markdown",
      "metadata": {
        "id": "view-in-github",
        "colab_type": "text"
      },
      "source": [
        "<a href=\"https://colab.research.google.com/github/OscarIvan3/Estructura-de-datos/blob/main/Untitled0.ipynb\" target=\"_parent\"><img src=\"https://colab.research.google.com/assets/colab-badge.svg\" alt=\"Open In Colab\"/></a>"
      ]
    },
    {
      "cell_type": "code",
      "execution_count": null,
      "metadata": {
        "id": "EwSk8mKHuMmH"
      },
      "outputs": [],
      "source": []
    },
    {
      "cell_type": "markdown",
      "source": [
        "# Fuerza Bruta\n",
        "from typing import List\n",
        "\n",
        "class Solution:\n",
        "    def twoSum(self, nums: List[int], target: int) -> List[int]:\n",
        "        # Recorremos cada elemento\n",
        "        for i in range(len(nums)):\n",
        "            # Recorremos los siguientes elementos para evitar duplicados\n",
        "            for j in range(i + 1, len(nums)):\n",
        "                # Verificamos si la suma es igual al target\n",
        "                if nums[i] + nums[j] == target:\n",
        "                    return [i, j]"
      ],
      "metadata": {
        "id": "bGN1HPMHuN8F"
      }
    },
    {
      "cell_type": "markdown",
      "source": [
        "# Multiplicacion de dos numeros\n"
      ],
      "metadata": {
        "id": "sp0v9NzmXrLg"
      }
    },
    {
      "cell_type": "code",
      "source": [
        "from typing import List\n",
        "\n",
        "class Solution:\n",
        "    def twoProduct(self, nums: list[int], target: int) -> List[int]:\n",
        "        num_map = {}\n",
        "        best_pair = None\n",
        "        for i, num in enumerate(nums):\n",
        "            if num == 0 and target == 0:\n",
        "                return [i, i]\n",
        "            if num != 0 and target % num == 0:\n",
        "                complement = target // num\n",
        "                if complement in num_map:\n",
        "                    if best_pair is None or [num_map[complement], i] < best_pair:\n",
        "                        best_pair = [num_map[complement], i]\n",
        "            num_map[num] = i\n",
        "        return best_pair\n",
        "\n",
        "sol = Solution()\n",
        "result = sol.twoProduct([2, 4, 5, 10, 7], 20)\n",
        "print(\"Found Indices:\", result)"
      ],
      "metadata": {
        "id": "XshFT5fhXxMN"
      },
      "execution_count": null,
      "outputs": []
    },
    {
      "cell_type": "markdown",
      "source": [],
      "metadata": {
        "id": "QrjRE7VRXkIN"
      }
    },
    {
      "cell_type": "markdown",
      "source": [
        "# Hash Map\n",
        "from typing import List\n",
        "\n",
        "class Solution:\n",
        "    def twoSum(self, nums: List[int], target: int) -> List[int]:\n",
        "        mapa = {}  # valor -> índice\n",
        "        \n",
        "        for i, num in enumerate(nums):\n",
        "            complemento = target - num\n",
        "            \n",
        "            # Si el complemento ya está en el mapa, devolvemos los índices\n",
        "            if complemento in mapa:\n",
        "                return [mapa[complemento], i]\n",
        "            \n",
        "            # Guardamos el valor actual y su índice\n",
        "            mapa[num] = i"
      ],
      "metadata": {
        "id": "4YLcnXWdume5"
      }
    }
  ]
}